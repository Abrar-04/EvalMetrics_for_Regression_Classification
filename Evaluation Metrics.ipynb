{
 "cells": [
  {
   "cell_type": "markdown",
   "metadata": {},
   "source": [
    "## CLASSIFICATION Evaluation Metrics"
   ]
  },
  {
   "cell_type": "markdown",
   "metadata": {},
   "source": [
    "* True positive (TP): Given an image, if your model predicts the image has disease, and the actual target for that image has disease, it is considered a true positive.\n",
    "\n",
    "* True negative (TN): Given an image, if your model predicts that the image does not have disease and the actual target says that it is a non-disease image, it is considered a true negative.\n",
    "\n",
    "* False positive (FP): Given an image,if your model predicts disease and the actual target for that is non-disease, its a false positive\n",
    "\n",
    "* False negative (FN): Given an image, if your model predicts non-disease and the actual target for that image is disease , it is a false negative.\n"
   ]
  },
  {
   "cell_type": "markdown",
   "metadata": {},
   "source": [
    "* yTrue is list of true values\n",
    "* yPred is list of predicted values\n",
    "* yProba is list of probabilities for 1 "
   ]
  },
  {
   "cell_type": "code",
   "execution_count": 12,
   "metadata": {},
   "outputs": [],
   "source": [
    "a=[0,1,1,1,1,0,0,1,1,0,1,1,0,1]\n",
    "b=[0,1,0,1,0,1,0,0,1,1,0,0,1,1]\n",
    "\n",
    "from sklearn import metrics"
   ]
  },
  {
   "cell_type": "code",
   "execution_count": 13,
   "metadata": {},
   "outputs": [],
   "source": [
    "def true_positive(yTrue,yPred):\n",
    "    TP=0\n",
    "    \n",
    "    for yt,yp in zip(yTrue,yPred):\n",
    "        if yt == 1 and yp== 1:\n",
    "            TP+=1\n",
    "    \n",
    "    return TP   "
   ]
  },
  {
   "cell_type": "code",
   "execution_count": 14,
   "metadata": {},
   "outputs": [],
   "source": [
    "def true_negative(yTrue,yPred):\n",
    "    TN=0\n",
    "    \n",
    "    for yt,yp in zip(yTrue,yPred):\n",
    "        if yt == 0 and yp == 0:\n",
    "            TN+=1\n",
    "            \n",
    "    return TN"
   ]
  },
  {
   "cell_type": "code",
   "execution_count": 15,
   "metadata": {},
   "outputs": [],
   "source": [
    "def false_positive(yTrue,yPred):\n",
    "    FP=0\n",
    "    \n",
    "    for yt,yp in zip(yTrue,yPred):\n",
    "        if yt == 0 and yp ==1:\n",
    "            FP+=1\n",
    "            \n",
    "    return FP"
   ]
  },
  {
   "cell_type": "code",
   "execution_count": 16,
   "metadata": {},
   "outputs": [],
   "source": [
    "def false_negative(yTrue,yPred):\n",
    "    FN=0\n",
    "    \n",
    "    for yt,yp in zip(yTrue,yPred):\n",
    "        if yt == 1 and yp ==0:\n",
    "            FN+=1\n",
    "            \n",
    "    return FN"
   ]
  },
  {
   "cell_type": "code",
   "execution_count": null,
   "metadata": {},
   "outputs": [],
   "source": []
  },
  {
   "cell_type": "markdown",
   "metadata": {},
   "source": [
    "* ACCURACY SCORE = It defines how accurate our model is. for example if 80 out of 100 items are classified correctly its accuracy is 80%\n",
    "\n",
    "* ACCURACY SCORE = (TP+TN)/(TP+TN+FP+FN)"
   ]
  },
  {
   "cell_type": "code",
   "execution_count": 17,
   "metadata": {},
   "outputs": [],
   "source": [
    "def accuracy(yTrue,yPred):\n",
    "    \n",
    "    TP=true_positive(yTrue,yPred)\n",
    "    TN=true_negative(yTrue,yPred)\n",
    "    FP=false_positive(yTrue,yPred)\n",
    "    FN=false_negative(yTrue,yPred)\n",
    "    \n",
    "    ACCURACY= (TP+TN)/(TP+TN+FP+FN)\n",
    "    \n",
    "    return ACCURACY"
   ]
  },
  {
   "cell_type": "markdown",
   "metadata": {},
   "source": [
    "* PRECISION : Precision quantifies the number of positive class predictions that actually belong to the positive class.\n",
    "\n",
    "* (P) PRECISION = (TP)/(TP+FP)"
   ]
  },
  {
   "cell_type": "code",
   "execution_count": 18,
   "metadata": {},
   "outputs": [],
   "source": [
    "def precision(yTrue,yPred):\n",
    "    \n",
    "    TP=true_positive(yTrue,yPred)\n",
    "    FP=false_positive(yTrue,yPred)\n",
    "    \n",
    "    PRECISION= TP/(TP+FP)\n",
    "    \n",
    "    return PRECISION\n",
    "    "
   ]
  },
  {
   "cell_type": "markdown",
   "metadata": {},
   "source": [
    "* RECALL : Recall quantifies the number of positive class predictions made out of all positive examples in the dataset.\n",
    "\n",
    "* (R) RECALL or Sensitivity = (TP)/(TP+FN) "
   ]
  },
  {
   "cell_type": "code",
   "execution_count": 19,
   "metadata": {},
   "outputs": [],
   "source": [
    "def recall(yTrue,yPred):\n",
    "    \n",
    "    TP=true_positive(yTrue,yPred)\n",
    "    FN=false_negative(yTrue,yPred)\n",
    "    \n",
    "    RECALL= (TP)/(TP+FN)\n",
    "    \n",
    "    return RECALL\n",
    "    "
   ]
  },
  {
   "cell_type": "markdown",
   "metadata": {},
   "source": [
    "* F-Measure provides a single score that balances both the concerns of precision and recall in one number.\n",
    "* F1 SCORE = (2*P*R)/(P+R)"
   ]
  },
  {
   "cell_type": "code",
   "execution_count": 20,
   "metadata": {},
   "outputs": [],
   "source": [
    "def f1_score(yTrue,yPred):\n",
    "    \n",
    "    P=precision(yTrue,yPred)\n",
    "    R=recall(yTrue,yPred)\n",
    "    \n",
    "    F1=(2*P*R)/(P+R)\n",
    "    \n",
    "    return F1"
   ]
  },
  {
   "cell_type": "code",
   "execution_count": null,
   "metadata": {},
   "outputs": [],
   "source": []
  },
  {
   "cell_type": "code",
   "execution_count": null,
   "metadata": {},
   "outputs": [],
   "source": []
  },
  {
   "cell_type": "code",
   "execution_count": 21,
   "metadata": {},
   "outputs": [
    {
     "name": "stdout",
     "output_type": "stream",
     "text": [
      "SKLEARN ACCURACY:  0.42857142857142855\n",
      "OUR ACCURACY:  0.42857142857142855\n"
     ]
    }
   ],
   "source": [
    "print(\"SKLEARN ACCURACY: \", metrics.accuracy_score(a,b))\n",
    "print(\"OUR ACCURACY: \",accuracy(a,b))"
   ]
  },
  {
   "cell_type": "code",
   "execution_count": 22,
   "metadata": {},
   "outputs": [
    {
     "name": "stdout",
     "output_type": "stream",
     "text": [
      "SKLEARN PRECISION:  0.5714285714285714\n",
      "OUR PRECISION:  0.5714285714285714\n"
     ]
    }
   ],
   "source": [
    "print(\"SKLEARN PRECISION: \", metrics.precision_score(a,b))\n",
    "print(\"OUR PRECISION: \",precision(a,b))"
   ]
  },
  {
   "cell_type": "code",
   "execution_count": 23,
   "metadata": {},
   "outputs": [
    {
     "name": "stdout",
     "output_type": "stream",
     "text": [
      "SKLEARN RECALL:  0.4444444444444444\n",
      "OUR RECALL:  0.4444444444444444\n"
     ]
    }
   ],
   "source": [
    "print(\"SKLEARN RECALL: \", metrics.recall_score(a,b))\n",
    "print(\"OUR RECALL: \",recall(a,b))"
   ]
  },
  {
   "cell_type": "code",
   "execution_count": 24,
   "metadata": {},
   "outputs": [
    {
     "name": "stdout",
     "output_type": "stream",
     "text": [
      "SKLEARN F1 SCORE:  0.5\n",
      "OUR F1 Score:  0.5\n"
     ]
    }
   ],
   "source": [
    "print(\"SKLEARN F1 SCORE: \", metrics.f1_score(a,b))\n",
    "print(\"OUR F1 Score: \",f1_score(a,b))"
   ]
  },
  {
   "cell_type": "code",
   "execution_count": null,
   "metadata": {},
   "outputs": [],
   "source": []
  },
  {
   "cell_type": "markdown",
   "metadata": {},
   "source": [
    "\n",
    "\n",
    "* TruePositiveRate(TPR) or RECALL = (TP)/(TP+FN) \n",
    "* FalsePostiveRate(FPR) = (FP)/(TN+FP) \n",
    "\n",
    "\n",
    "\n",
    "* AREA BETWEEN TPR & FPR is Receiver Operating Characteristic (ROC)\n"
   ]
  },
  {
   "cell_type": "code",
   "execution_count": 25,
   "metadata": {},
   "outputs": [],
   "source": [
    "def TPR(yTrue,yPred):\n",
    "    \n",
    "    return recall(yTrue,yPred)\n",
    "\n",
    "def FPR(yTrue,yPred):\n",
    "    \n",
    "    FP=false_positive(yTrue,yPred)\n",
    "    TN=true_negative(yTrue,yPred)\n",
    "    \n",
    "    FPR= (FP)/(TN+FP)\n",
    "    \n",
    "    return FPR"
   ]
  },
  {
   "cell_type": "code",
   "execution_count": null,
   "metadata": {},
   "outputs": [],
   "source": []
  },
  {
   "cell_type": "markdown",
   "metadata": {},
   "source": [
    "Most of the classification models predict a probability,\n",
    "the value of precision and recall changes significantly based on the thresholld value(usually 0.5)"
   ]
  },
  {
   "cell_type": "code",
   "execution_count": 26,
   "metadata": {},
   "outputs": [],
   "source": [
    "yTrue=[0,0,1,0,1,\n",
    "      0,0,1,0,1,0,0,1]\n",
    "\n",
    "#probabiltiy of the values being 1 \n",
    "yPred=[0.1,0.6,0.8,\n",
    "      0.05,0.9,0.5,0.3,0.66,0.3,0.2,0.85,0.15,0.99]\n",
    "         \n",
    "            \n",
    "threshold=[0,0.3,0.4,\n",
    "           0.5,0.6,0.7,0.8,0.88,0.9,0.95,1.0]\n",
    "      "
   ]
  },
  {
   "cell_type": "code",
   "execution_count": 27,
   "metadata": {},
   "outputs": [],
   "source": [
    "tpr_list=[]\n",
    "fpr_list=[]\n",
    "\n",
    "for t in threshold:\n",
    "    predictions=[1 if x>=t else 0 for x in yPred]\n",
    "    tpr_pred=TPR(yTrue,predictions)\n",
    "    fpr_pred=FPR(yTrue,predictions)\n",
    "    \n",
    "    tpr_list.append(tpr_pred)\n",
    "    fpr_list.append(fpr_pred)"
   ]
  },
  {
   "cell_type": "code",
   "execution_count": 28,
   "metadata": {},
   "outputs": [
    {
     "data": {
      "image/png": "[encoded data removed]",
      "text/plain": [
       "<Figure size 432x432 with 1 Axes>"
      ]
     },
     "metadata": {
      "needs_background": "light"
     },
     "output_type": "display_data"
    }
   ],
   "source": [
    "import matplotlib.pyplot as plt\n",
    "plt.figure(figsize=(6,6))\n",
    "plt.fill_between(fpr_list,tpr_list,alpha=0.4)\n",
    "plt.plot(fpr_list,tpr_list,lw=3)\n",
    "plt.xlabel(\"FPR\")\n",
    "plt.ylabel(\"TPR\")\n",
    "plt.title(\"ROC CURVE\")\n",
    "plt.show()"
   ]
  },
  {
   "cell_type": "code",
   "execution_count": null,
   "metadata": {},
   "outputs": [],
   "source": []
  },
  {
   "cell_type": "markdown",
   "metadata": {},
   "source": [
    "* For Binary clasification:\n",
    "* Logloss: measures the performance of a classification model where the prediction input is a probability value between 0 and 1. \n",
    "* logloss= - 1.0 * (target * log(prediction) + (1 - target) * log(1 - prediction))\n",
    "* take the mean of the individual losses for overall logloss\n",
    "* lower the logloss better is the model\n",
    "\n",
    "\n"
   ]
  },
  {
   "cell_type": "code",
   "execution_count": null,
   "metadata": {},
   "outputs": [],
   "source": []
  },
  {
   "cell_type": "code",
   "execution_count": 46,
   "metadata": {},
   "outputs": [],
   "source": [
    "yTrue= [0, 0, 0, 0, 1, 0, 1, 0, 0, 1, 0, 1, 0, 0, 1]\n",
    "\n",
    "\n",
    "yProba=[0.1, 0.3, 0.2, 0.6, 0.8, 0.05, 0.9, 0.5, 0.3, 0.66, 0.3, 0.2, 0.85, 0.15, 0.99]\n",
    "\n"
   ]
  },
  {
   "cell_type": "code",
   "execution_count": 33,
   "metadata": {},
   "outputs": [],
   "source": [
    "import numpy as np\n",
    "def logloss(yTrue,yProba):\n",
    "    ep=1e-15\n",
    "    loss_list=[]\n",
    "    \n",
    "    for yt,yp in zip(yTrue,yProba):\n",
    "        yp=np.clip(yp,ep,1-ep)  \n",
    "        t_loss = - 1.0 * ( yt * np.log(yp) + (1 - yt) * np.log(1 - yp) )\n",
    "        loss_list.append(t_loss)\n",
    "        loss=np.mean(loss_list)\n",
    "                             \n",
    "        \n",
    "    return loss\n",
    "    "
   ]
  },
  {
   "cell_type": "code",
   "execution_count": 37,
   "metadata": {},
   "outputs": [
    {
     "name": "stdout",
     "output_type": "stream",
     "text": [
      "SKLEARN LOG-LOSS 0.49882711861432294\n",
      "OUR LOG-LOSS 0.49882711861432294\n"
     ]
    }
   ],
   "source": [
    "print(\"SKLEARN LOG-LOSS\",metrics.log_loss(yTrue,yProba))\n",
    "print(\"OUR LOG-LOSS\",logloss(yTrue,yProba))"
   ]
  },
  {
   "cell_type": "code",
   "execution_count": null,
   "metadata": {},
   "outputs": [],
   "source": []
  },
  {
   "cell_type": "markdown",
   "metadata": {},
   "source": [
    "## REGRESSION Evaluation Metrics"
   ]
  },
  {
   "cell_type": "markdown",
   "metadata": {},
   "source": [
    "* Error is the difference between true value and predicted value\n",
    "* ERROR = True Value - Predicted Value\n"
   ]
  },
  {
   "cell_type": "markdown",
   "metadata": {},
   "source": [
    "* Mean Absolute Error (MAE) : Its the mean of all errors"
   ]
  },
  {
   "cell_type": "code",
   "execution_count": 49,
   "metadata": {},
   "outputs": [],
   "source": [
    "yTrue=[1,2,3,1,2,3,1,2,3]\n",
    "yPred=[2,1,3,1,2,3,3,1,2]"
   ]
  },
  {
   "cell_type": "code",
   "execution_count": 50,
   "metadata": {},
   "outputs": [],
   "source": [
    "def MeanAbsoluteError(yTrue,yPred):\n",
    "    error=0\n",
    "    for yt,yp in zip(yTrue,yPred):\n",
    "        error+=np.abs(yt-yp)\n",
    "    error=error/len(yTrue)\n",
    "    \n",
    "    return error"
   ]
  },
  {
   "cell_type": "code",
   "execution_count": 51,
   "metadata": {},
   "outputs": [
    {
     "name": "stdout",
     "output_type": "stream",
     "text": [
      "SKLEARN MAE:  0.6666666666666666\n",
      "Our MAE:  0.6666666666666666\n"
     ]
    }
   ],
   "source": [
    "print(\"SKLEARN MAE: \",metrics.mean_absolute_error(yTrue,yPred))\n",
    "print(\"Our MAE: \",MeanAbsoluteError(yTrue,yPred))"
   ]
  },
  {
   "cell_type": "code",
   "execution_count": null,
   "metadata": {},
   "outputs": [],
   "source": []
  },
  {
   "cell_type": "markdown",
   "metadata": {},
   "source": [
    "* Mean Squared Error (MSE) : Mean of the squares of all the errors\n",
    "* MSE= mean of (TrueValue-PredictedValue)^2"
   ]
  },
  {
   "cell_type": "code",
   "execution_count": 39,
   "metadata": {},
   "outputs": [],
   "source": [
    "def MeanSquaredError(yTrue,yPred):\n",
    "    error=0\n",
    "    for yt,yp in zip(yTrue,yPred):\n",
    "        error+= (yt-yp)**2\n",
    "    error=error/len(yTrue)\n",
    "    \n",
    "    return error"
   ]
  },
  {
   "cell_type": "code",
   "execution_count": 54,
   "metadata": {},
   "outputs": [
    {
     "name": "stdout",
     "output_type": "stream",
     "text": [
      "SKLEARN MSE:  0.8888888888888888\n",
      "Our MSE:  0.8888888888888888\n"
     ]
    }
   ],
   "source": [
    "print(\"SKLEARN MSE: \",metrics.mean_squared_error(yTrue,yPred))\n",
    "print(\"Our MSE: \",MeanSquaredError(yTrue,yPred))"
   ]
  },
  {
   "cell_type": "code",
   "execution_count": null,
   "metadata": {},
   "outputs": [],
   "source": []
  },
  {
   "cell_type": "markdown",
   "metadata": {},
   "source": [
    "* Squared Log Error :\n",
    "* it is the mean of square of logloss"
   ]
  },
  {
   "cell_type": "code",
   "execution_count": 56,
   "metadata": {},
   "outputs": [],
   "source": [
    "def SquaredLogError(yTrue,yPred):\n",
    "    error=0\n",
    "    for yt,yp in zip(yTrue,yPred):\n",
    "        error += (np.log(1 + yt) - np.log(1 + yp)) ** 2\n",
    "        \n",
    "    error=error/len(yTrue)\n",
    "    \n",
    "    return error"
   ]
  },
  {
   "cell_type": "code",
   "execution_count": 57,
   "metadata": {},
   "outputs": [
    {
     "name": "stdout",
     "output_type": "stream",
     "text": [
      "SKLEARN SLE:  0.11737998337864991\n",
      "Our SLE:  0.11737998337864997\n"
     ]
    }
   ],
   "source": [
    "print(\"SKLEARN SLE: \",metrics.mean_squared_log_error(yTrue,yPred))\n",
    "print(\"Our SLE: \",SquaredLogError(yTrue,yPred))"
   ]
  },
  {
   "cell_type": "code",
   "execution_count": null,
   "metadata": {},
   "outputs": [],
   "source": []
  },
  {
   "cell_type": "markdown",
   "metadata": {},
   "source": [
    "* R squared Error:\n"
   ]
  },
  {
   "attachments": {
    "r2.png": {
     "image/png": "[encoded data removed]"
    }
   },
   "cell_type": "markdown",
   "metadata": {},
   "source": [
    "![r2.png](attachment:r2.png)"
   ]
  },
  {
   "cell_type": "code",
   "execution_count": 59,
   "metadata": {},
   "outputs": [],
   "source": [
    "def r2(yTrue,yPred):\n",
    "    \n",
    "    meanTrue=np.mean(yTrue)\n",
    "    Nr=0\n",
    "    Dr=0\n",
    "    \n",
    "    for yt,yp in zip(yTrue,yPred):\n",
    "        Nr+=(yt-yp)**2\n",
    "        Dr+=(yt-meanTrue)**2\n",
    "    x=Nr/Dr\n",
    "    y=1-x\n",
    "        \n",
    "    return y\n",
    "    "
   ]
  },
  {
   "cell_type": "code",
   "execution_count": 60,
   "metadata": {},
   "outputs": [
    {
     "name": "stdout",
     "output_type": "stream",
     "text": [
      "SKLEARN R2 score:  -0.33333333333333326\n",
      "Our R2 score:  -0.33333333333333326\n"
     ]
    }
   ],
   "source": [
    "print(\"SKLEARN R2 score: \",metrics.r2_score(yTrue,yPred))\n",
    "print(\"Our R2 score: \",r2(yTrue,yPred))"
   ]
  },
  {
   "cell_type": "code",
   "execution_count": null,
   "metadata": {},
   "outputs": [],
   "source": []
  },
  {
   "cell_type": "code",
   "execution_count": null,
   "metadata": {},
   "outputs": [],
   "source": []
  },
  {
   "cell_type": "code",
   "execution_count": null,
   "metadata": {},
   "outputs": [],
   "source": []
  }
 ],
 "metadata": {
  "kernelspec": {
   "display_name": "Python 3",
   "language": "python",
   "name": "python3"
  },
  "language_info": {
   "codemirror_mode": {
    "name": "ipython",
    "version": 3
   },
   "file_extension": ".py",
   "mimetype": "text/x-python",
   "name": "python",
   "nbconvert_exporter": "python",
   "pygments_lexer": "ipython3",
   "version": "3.7.6"
  }
 },
 "nbformat": 4,
 "nbformat_minor": 4
}
